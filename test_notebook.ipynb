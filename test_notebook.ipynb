{
 "cells": [
  {
   "cell_type": "code",
   "execution_count": 15,
   "metadata": {},
   "outputs": [],
   "source": [
    "def __resample_convert_wav_custom(folder_in, sr=16000, ext='.wav'):\n",
    "        \n",
    "        # find total number of files to convert\n",
    "        total_count = 0\n",
    "        for (dirpath, _, filenames) in os.walk(folder_in):\n",
    "            for filename in sorted(filenames):\n",
    "                if filename.endswith(ext):\n",
    "                    total_count += 1\n",
    "        print(f\"Total number of speech files to convert to 1-sec .wav: {total_count}\")\n",
    "\n",
    "        converted_count = 0\n",
    "        # segment each audio file to 1-sec frames and save\n",
    "        for (dirpath, _, filenames) in os.walk(folder_in):\n",
    "            for filename in sorted(filenames):\n",
    "                i = 0\n",
    "                if filename.endswith(ext):\n",
    "                    fname = os.path.join(dirpath, filename)\n",
    "                    data, _ = librosa.load(fname, sr=sr)\n",
    "\n",
    "                    # normalize data\n",
    "                    mx = np.amax(abs(data))\n",
    "                    data = data / mx\n",
    "\n",
    "                    chunk_start = 0\n",
    "                    frame_count = 0\n",
    "\n",
    "                    precursor_len = 30 * 128\n",
    "                    postcursor_len = 98 * 128\n",
    "                    utternace_threshold = 30\n",
    "\n",
    "                    while True:\n",
    "                        if chunk_start + postcursor_len > len(data):\n",
    "                            break\n",
    "\n",
    "                        chunk = data[chunk_start: chunk_start + 128]\n",
    "                        # scaled average over 128 samples\n",
    "                        avg = 1000 * np.average(abs(chunk))\n",
    "                        i += 128\n",
    "\n",
    "                        if avg > utternace_threshold and chunk_start >= precursor_len:\n",
    "                            print(f\"\\r Converting {converted_count + 1}/{total_count} \"\n",
    "                                f\"to {frame_count + 1} segments\", end=\" \")\n",
    "                            frame = data[chunk_start - precursor_len:chunk_start + postcursor_len]\n",
    "\n",
    "                            # Using the directory path instead of a folder_out\n",
    "                            outfile = os.path.join(dirpath, filename[:-4] + f'_chunk{frame_count}.wav')\n",
    "                            sf.write(outfile, frame, sr)\n",
    "\n",
    "                            chunk_start += postcursor_len\n",
    "                            frame_count += 1\n",
    "                        else:\n",
    "                            chunk_start += 128\n",
    "                    # Deleting the original large .wav file\n",
    "                    os.remove(fname)\n",
    "                    converted_count += 1\n",
    "        print(f'\\rFile conversion completed: {converted_count} files ')"
   ]
  },
  {
   "cell_type": "code",
   "execution_count": 16,
   "metadata": {},
   "outputs": [
    {
     "name": "stdout",
     "output_type": "stream",
     "text": [
      "Total number of speech files to convert to 1-sec .wav: 52\n",
      "File conversion completed: 52 files \n"
     ]
    }
   ],
   "source": [
    "import os\n",
    "folder_in = r\"C:\\Users\\JDiwanga\\OneDrive - Analog Devices, Inc\\Documents\\PMO_ML\\ML projects\\Audio Classification\\max78000fthr\\smart echo\\ai8x-training\\data\\raw\"\n",
    "sr=16000\n",
    "ext='.wav'\n",
    "\n",
    "# find total number of files to conv\n",
    "__resample_convert_wav_custom(folder_in=folder_in)"
   ]
  },
  {
   "cell_type": "code",
   "execution_count": 9,
   "metadata": {},
   "outputs": [
    {
     "name": "stdout",
     "output_type": "stream",
     "text": [
      "File conversion completed: 52 files \n"
     ]
    }
   ],
   "source": [
    "import numpy as np\n",
    "import librosa\n",
    "import soundfile as sf\n",
    "converted_count = 0\n",
    "# segment each audio file to 1-sec frames and save\n",
    "for (dirpath, _, filenames) in os.walk(folder_in):\n",
    "    for filename in sorted(filenames):\n",
    "        i = 0\n",
    "        if filename.endswith(ext):\n",
    "            fname = os.path.join(dirpath, filename)\n",
    "            data, _ = librosa.load(fname, sr=sr)\n",
    "\n",
    "            # normalize data\n",
    "            mx = np.amax(abs(data))\n",
    "            data = data / mx\n",
    "\n",
    "            chunk_start = 0\n",
    "            frame_count = 0\n",
    "\n",
    "            precursor_len = 30 * 128\n",
    "            postcursor_len = 98 * 128\n",
    "            utternace_threshold = 30\n",
    "\n",
    "            while True:\n",
    "                if chunk_start + postcursor_len > len(data):\n",
    "                    break\n",
    "\n",
    "                chunk = data[chunk_start: chunk_start + 128]\n",
    "                # scaled average over 128 samples\n",
    "                avg = 1000 * np.average(abs(chunk))\n",
    "                i += 128\n",
    "\n",
    "                if avg > utternace_threshold and chunk_start >= precursor_len:\n",
    "                    print(f\"\\r Converting {converted_count + 1}/{total_count} \"\n",
    "                        f\"to {frame_count + 1} segments\", end=\" \")\n",
    "                    frame = data[chunk_start - precursor_len:chunk_start + postcursor_len]\n",
    "\n",
    "                    # Using the directory path instead of a folder_out\n",
    "                    outfile = os.path.join(dirpath, filename[:-4] + f'_chunk{frame_count}.wav')\n",
    "                    sf.write(outfile, frame, sr)\n",
    "\n",
    "                    chunk_start += postcursor_len\n",
    "                    frame_count += 1\n",
    "                else:\n",
    "                    chunk_start += 128\n",
    "            os.remove(fname)\n",
    "            converted_count += 1\n",
    "print(f'\\rFile conversion completed: {converted_count} files ')"
   ]
  }
 ],
 "metadata": {
  "kernelspec": {
   "display_name": "Python 3",
   "language": "python",
   "name": "python3"
  },
  "language_info": {
   "codemirror_mode": {
    "name": "ipython",
    "version": 3
   },
   "file_extension": ".py",
   "mimetype": "text/x-python",
   "name": "python",
   "nbconvert_exporter": "python",
   "pygments_lexer": "ipython3",
   "version": "3.11.4"
  },
  "orig_nbformat": 4
 },
 "nbformat": 4,
 "nbformat_minor": 2
}
